{
  "nbformat": 4,
  "nbformat_minor": 0,
  "metadata": {
    "colab": {
      "provenance": [],
      "authorship_tag": "ABX9TyMzv1vInVngW9EVrWeszDiD",
      "include_colab_link": true
    },
    "kernelspec": {
      "name": "python3",
      "display_name": "Python 3"
    },
    "language_info": {
      "name": "python"
    }
  },
  "cells": [
    {
      "cell_type": "markdown",
      "metadata": {
        "id": "view-in-github",
        "colab_type": "text"
      },
      "source": [
        "<a href=\"https://colab.research.google.com/github/Manju143149/Manju143149/blob/main/arakera.ipynb\" target=\"_parent\"><img src=\"https://colab.research.google.com/assets/colab-badge.svg\" alt=\"Open In Colab\"/></a>"
      ]
    },
    {
      "cell_type": "code",
      "execution_count": null,
      "metadata": {
        "id": "rqZMqNiyL3uf",
        "outputId": "07961234-0cf7-4791-91d0-227046ddd70a",
        "colab": {
          "base_uri": "https://localhost:8080/"
        }
      },
      "outputs": [
        {
          "output_type": "stream",
          "name": "stdout",
          "text": [
            "Alex\n",
            "Taylor\n",
            "Jordan\n",
            "Total: 345\n"
          ]
        }
      ],
      "source": [
        "\n",
        "# Print each student name\n",
        "students = [\"Alex\", \"Taylor\", \"Jordan\"]\n",
        "for student in students:\n",
        "    print(student)\n",
        "\n",
        "# Calculate total marks\n",
        "marks = [85, 92, 78, 90]\n",
        "total = 0\n",
        "for mark in marks:\n",
        "    total += mark\n",
        "print(\"Total:\", total)"
      ]
    },
    {
      "cell_type": "code",
      "source": [
        "\n",
        "# Password checker\n",
        "password = \"\"\n",
        "while password != \"Manjunath\":\n",
        "    password = input(\"Enter password: \")\n",
        "print(\"Access granted!\")"
      ],
      "metadata": {
        "colab": {
          "base_uri": "https://localhost:8080/"
        },
        "id": "6XswGzfJNX8u",
        "outputId": "285cb305-aeec-4f36-d7ae-d108c03886ce"
      },
      "execution_count": 18,
      "outputs": [
        {
          "output_type": "stream",
          "name": "stdout",
          "text": [
            "Enter password: Manjunath\n",
            "Access granted!\n"
          ]
        }
      ]
    },
    {
      "cell_type": "code",
      "source": [
        "\n",
        "# Countdown timer\n",
        "count = 5\n",
        "while count > 0:\n",
        "    print(count)\n",
        "    count -= 1\n",
        "print(\"Blast off!\")"
      ],
      "metadata": {
        "colab": {
          "base_uri": "https://localhost:8080/"
        },
        "id": "_w0MyZt_P27I",
        "outputId": "4faea0b9-77b6-4f9d-d326-66ea6fb18d85"
      },
      "execution_count": 25,
      "outputs": [
        {
          "output_type": "stream",
          "name": "stdout",
          "text": [
            "5\n",
            "4\n",
            "3\n",
            "2\n",
            "1\n",
            "Blast off!\n"
          ]
        }
      ]
    },
    {
      "cell_type": "code",
      "source": [
        "def is_even(num):\n",
        "  if num %2==0:\n",
        "    return True\n",
        "  else:\n",
        "      return False\n",
        "result=is_even(5)\n",
        "print (result)"
      ],
      "metadata": {
        "colab": {
          "base_uri": "https://localhost:8080/"
        },
        "id": "xtl1tP2pSpuz",
        "outputId": "dbce385d-afdb-46ea-aa9c-93f08a8cb7bb"
      },
      "execution_count": 35,
      "outputs": [
        {
          "output_type": "stream",
          "name": "stdout",
          "text": [
            "False\n"
          ]
        }
      ]
    }
  ]
}